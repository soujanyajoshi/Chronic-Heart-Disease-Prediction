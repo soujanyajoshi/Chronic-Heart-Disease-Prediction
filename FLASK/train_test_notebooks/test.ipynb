{
 "cells": [
  {
   "cell_type": "code",
   "execution_count": 1,
   "metadata": {},
   "outputs": [],
   "source": [
    "import joblib\n",
    "import numpy as np"
   ]
  },
  {
   "cell_type": "code",
   "execution_count": 2,
   "metadata": {},
   "outputs": [],
   "source": [
    "model_DT = joblib.load('models/Heart_DT.pkl')\n",
    "model_GB = joblib.load('models/Heart_GB.pkl')\n",
    "model_KNN = joblib.load('models/Heart_KNN.pkl')\n",
    "model_LR = joblib.load('models/Heart_LR.pkl')\n",
    "model_RFC = joblib.load('models/Heart_RFC.pkl')\n",
    "model_SVM = joblib.load('models/Heart_SVM.pkl')"
   ]
  },
  {
   "cell_type": "code",
   "execution_count": 3,
   "metadata": {},
   "outputs": [],
   "source": [
    "input_arr = np.array([1, 39, 0,\t8, 0, 0, 1,\t0, 236, 106.0, 70.0, 26.0, 76, 82]).reshape(1, -1)\t"
   ]
  },
  {
   "cell_type": "code",
   "execution_count": 4,
   "metadata": {},
   "outputs": [],
   "source": [
    "def predict(input, model):\n",
    "    return model.predict(input)\n",
    "\n",
    "def predict_proba(input, model):\n",
    "    return model.predict_proba(input)"
   ]
  },
  {
   "cell_type": "code",
   "execution_count": 5,
   "metadata": {},
   "outputs": [
    {
     "name": "stdout",
     "output_type": "stream",
     "text": [
      "[1]\n",
      "[[0. 1.]]\n"
     ]
    }
   ],
   "source": [
    "res_DT = predict(input_arr, model_DT)\n",
    "print(res_DT)\n",
    "\n",
    "res_DT_proba = predict_proba(input_arr, model_DT)\n",
    "print(res_DT_proba)"
   ]
  },
  {
   "cell_type": "code",
   "execution_count": 6,
   "metadata": {},
   "outputs": [
    {
     "name": "stdout",
     "output_type": "stream",
     "text": [
      "[1]\n",
      "[[2.15188047e-05 9.99978481e-01]]\n"
     ]
    }
   ],
   "source": [
    "res_GB = predict(input_arr, model_GB)\n",
    "print(res_GB)\n",
    "\n",
    "res_GB_proba = predict_proba(input_arr, model_GB)\n",
    "print(res_GB_proba)"
   ]
  },
  {
   "cell_type": "code",
   "execution_count": 7,
   "metadata": {},
   "outputs": [
    {
     "name": "stdout",
     "output_type": "stream",
     "text": [
      "[1]\n",
      "[[0. 1.]]\n"
     ]
    }
   ],
   "source": [
    "res_KNN = predict(input_arr, model_KNN)\n",
    "print(res_KNN)\n",
    "\n",
    "res_KNN_proba = predict_proba(input_arr, model_KNN)\n",
    "print(res_KNN_proba)"
   ]
  },
  {
   "cell_type": "code",
   "execution_count": 8,
   "metadata": {},
   "outputs": [
    {
     "name": "stdout",
     "output_type": "stream",
     "text": [
      "[1]\n",
      "[[4.55635529e-12 1.00000000e+00]]\n"
     ]
    }
   ],
   "source": [
    "res_LR = predict(input_arr, model_LR)\n",
    "print(res_LR)\n",
    "\n",
    "res_LR_proba = predict_proba(input_arr, model_LR)\n",
    "print(res_LR_proba)"
   ]
  },
  {
   "cell_type": "code",
   "execution_count": 9,
   "metadata": {},
   "outputs": [
    {
     "name": "stdout",
     "output_type": "stream",
     "text": [
      "[1]\n",
      "[[0.02 0.98]]\n"
     ]
    }
   ],
   "source": [
    "res_RFC = predict(input_arr, model_RFC)\n",
    "print(res_RFC)\n",
    "\n",
    "res_RFC_proba = predict_proba(input_arr, model_RFC)\n",
    "print(res_RFC_proba)"
   ]
  },
  {
   "cell_type": "code",
   "execution_count": 10,
   "metadata": {},
   "outputs": [
    {
     "name": "stdout",
     "output_type": "stream",
     "text": [
      "[1]\n"
     ]
    }
   ],
   "source": [
    "res_SVM = predict(input_arr, model_SVM)\n",
    "print(res_SVM)\n",
    "\n",
    "#res_SVM_proba = predict_proba(input_arr, model_SVM)\n",
    "#print(res_SVM_proba)"
   ]
  },
  {
   "cell_type": "code",
   "execution_count": 11,
   "metadata": {},
   "outputs": [
    {
     "name": "stdout",
     "output_type": "stream",
     "text": [
      "[array([0., 1.]), array([2.15188047e-05, 9.99978481e-01]), array([0., 1.]), array([4.55635529e-12, 1.00000000e+00]), array([0.02, 0.98])]\n"
     ]
    }
   ],
   "source": [
    "ensemble_result = [res_DT_proba[0], res_GB_proba[0], res_KNN_proba[0], res_LR_proba[0], res_RFC_proba[0]]\n",
    "print(ensemble_result)"
   ]
  },
  {
   "cell_type": "code",
   "execution_count": 12,
   "metadata": {},
   "outputs": [
    {
     "name": "stdout",
     "output_type": "stream",
     "text": [
      "[0.0040043 0.9959957]\n",
      "Final Prediction - Class 1\n"
     ]
    }
   ],
   "source": [
    "output = np.mean(ensemble_result, axis = 0)\n",
    "print(output)\n",
    "\n",
    "print('Final Prediction - Class {}'.format(output.argmax()))"
   ]
  },
  {
   "cell_type": "code",
   "execution_count": null,
   "metadata": {},
   "outputs": [],
   "source": []
  }
 ],
 "metadata": {
  "kernelspec": {
   "display_name": "Python 3",
   "language": "python",
   "name": "python3"
  },
  "language_info": {
   "codemirror_mode": {
    "name": "ipython",
    "version": 3
   },
   "file_extension": ".py",
   "mimetype": "text/x-python",
   "name": "python",
   "nbconvert_exporter": "python",
   "pygments_lexer": "ipython3",
   "version": "3.7.3"
  }
 },
 "nbformat": 4,
 "nbformat_minor": 2
}
